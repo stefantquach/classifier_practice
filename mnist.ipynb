{
 "cells": [
  {
   "cell_type": "code",
   "execution_count": 1,
   "metadata": {},
   "outputs": [],
   "source": [
    "# imports\n",
    "from __future__ import absolute_import, division, print_function, unicode_literals\n",
    "import tensorflow as tf\n",
    "from tensorflow import keras\n",
    "from tensorflow.keras import layers\n",
    "\n",
    "import matplotlib.pyplot as plt\n",
    "import numpy as np"
   ]
  },
  {
   "cell_type": "code",
   "execution_count": 2,
   "metadata": {},
   "outputs": [
    {
     "data": {
      "text/plain": [
       "True"
      ]
     },
     "execution_count": 2,
     "metadata": {},
     "output_type": "execute_result"
    }
   ],
   "source": [
    "tf.test.is_gpu_available()"
   ]
  },
  {
   "cell_type": "code",
   "execution_count": 3,
   "metadata": {},
   "outputs": [],
   "source": [
    "# Model class\n",
    "# class MNIST_classifier(tf.keras.Model):\n",
    "#     def __init__(self, num_classes=10):\n",
    "#         super(MNIST_classifier, self).__init__(name='mnit-class')\n",
    "#         self.num_classes = num_classes\n",
    "#         # defining model\n",
    "#         self.flat = layers.Flatten(input_shape=(28,28))\n",
    "#         self.dense_1 = layers.Dense(28*28, activation='relu')\n",
    "#         #self.dense_hidden = [layers.Dense(16, activation = 'relu'), layers.Dense(16, activation = 'relu')]\n",
    "#         self.dense_4 = layers.Dense(num_classes, activation = 'softmax')\n",
    "        \n",
    "#     def call(self, inputs):\n",
    "#         x = self.flat(inputs)\n",
    "#         x = self.dense_1(inputs)\n",
    "#         #for layer in self.dense_hidden:\n",
    "#             #x = layer(x)\n",
    "#         return self.dense_4(x)\n",
    "        \n",
    "# model = MNIST_classifier(num_classes=10)\n",
    "\n",
    "# model.compile(optimizer=tf.keras.optimizers.SGD(0.001),\n",
    "#               loss='categorical_crossentropy',\n",
    "#               metrics=['accuracy'])\n",
    "model = keras.Sequential([\n",
    "    keras.layers.Flatten(input_shape=(28, 28)),\n",
    "    keras.layers.Dense(128, activation='relu'),\n",
    "    keras.layers.Dense(10, activation='softmax')\n",
    "])\n",
    "\n",
    "model.compile(optimizer='adam',\n",
    "              loss='sparse_categorical_crossentropy',\n",
    "              metrics=['accuracy'])\n"
   ]
  },
  {
   "cell_type": "code",
   "execution_count": 4,
   "metadata": {},
   "outputs": [
    {
     "name": "stdout",
     "output_type": "stream",
     "text": [
      "(60000, 28, 28)\n",
      "(60000,)\n"
     ]
    }
   ],
   "source": [
    "# importing data\n",
    "# import tensorflow_datasets as tfds\n",
    "\n",
    "# mnist_train = tfds.load(name='mnist', split='train', download=True, data_dir='./data')\n",
    "# mnist_train = mnist_train.map(lambda x: {'image': x['image']/255, 'label': x['label']})\n",
    "# mnist_test = tfds.load(name='mnist', split='test', download=True, data_dir='./data')\n",
    "# mnist_test = mnist_test.map(lambda x: {'image': x['image']/255, 'label': x['label']})\n",
    "\n",
    "(mnist_train_images, mnist_train_label), (mnist_test_images, mnist_test_label) = tf.keras.datasets.mnist.load_data()\n",
    "mnist_train_images = mnist_train_images/255.0\n",
    "mnist_test_images = mnist_test_images/255.0\n",
    "print(mnist_train_images.shape)\n",
    "print(mnist_train_label.shape)\n",
    "# print(mnist_train_images[1])\n",
    "mnist_train = tf.data.Dataset.from_tensor_slices((mnist_train_images, mnist_train_label))\n",
    "mnist_test = tf.data.Dataset.from_tensor_slices((mnist_test_images, mnist_test_label))"
   ]
  },
  {
   "cell_type": "code",
   "execution_count": 5,
   "metadata": {},
   "outputs": [
    {
     "name": "stdout",
     "output_type": "stream",
     "text": [
      "Epoch 1/3\n",
      "1875/1875 [==============================] - 9s 5ms/step - loss: 0.2567 - accuracy: 0.9255\n",
      "Epoch 2/3\n",
      "1875/1875 [==============================] - 4s 2ms/step - loss: 0.1134 - accuracy: 0.9664\n",
      "Epoch 3/3\n",
      "1875/1875 [==============================] - 4s 2ms/step - loss: 0.0764 - accuracy: 0.9775\n"
     ]
    },
    {
     "data": {
      "text/plain": [
       "<tensorflow.python.keras.callbacks.History at 0x1c4606f1e10>"
      ]
     },
     "execution_count": 5,
     "metadata": {},
     "output_type": "execute_result"
    }
   ],
   "source": [
    "mnist_train_ = mnist_train.shuffle(1000).batch(32)\n",
    "# prefetch will enable the input pipeline to asynchronously fetch batches while\n",
    "# your model is training.\n",
    "mnist_train__ = mnist_train_.prefetch(tf.data.experimental.AUTOTUNE)\n",
    "# print(type(mnist_train))\n",
    "\n",
    "model.fit(mnist_train_, epochs=3)\n",
    "# model.fit(mnist_train_images, mnist_train_label, epochs=3)"
   ]
  },
  {
   "cell_type": "code",
   "execution_count": 11,
   "metadata": {},
   "outputs": [
    {
     "name": "stdout",
     "output_type": "stream",
     "text": [
      "<TensorSliceDataset shapes: ((28, 28), ()), types: (tf.float64, tf.uint8)>\n",
      "<ShuffleDataset shapes: ((28, 28), ()), types: (tf.float64, tf.uint8)>\n",
      "<BatchDataset shapes: ((None, 28, 28), (None,)), types: (tf.float64, tf.uint8)>\n"
     ]
    }
   ],
   "source": [
    "print(mnist_train)\n",
    "mnist_train_1 = mnist_train.shuffle(1000)\n",
    "print(mnist_train_1)\n",
    "mnist_train_2 = mnist_train_1.batch(32)\n",
    "print(mnist_train_2)"
   ]
  },
  {
   "cell_type": "code",
   "execution_count": 7,
   "metadata": {},
   "outputs": [
    {
     "name": "stdout",
     "output_type": "stream",
     "text": [
      "<PrefetchDataset shapes: ((None, 28, 28), (None,)), types: (tf.float64, tf.uint8)>\n",
      "10000/1 - 1s - loss: 0.0502 - accuracy: 0.9686\n",
      "\n",
      "Test accuracy: 0.9686\n"
     ]
    }
   ],
   "source": [
    "print(mnist_train__)\n",
    "test_loss, test_acc = model.evaluate(mnist_test_images, mnist_test_label, verbose=2)\n",
    "\n",
    "print('\\nTest accuracy:', test_acc)"
   ]
  },
  {
   "cell_type": "code",
   "execution_count": null,
   "metadata": {},
   "outputs": [],
   "source": []
  },
  {
   "cell_type": "code",
   "execution_count": 6,
   "metadata": {},
   "outputs": [
    {
     "name": "stdout",
     "output_type": "stream",
     "text": [
      "Train on 60000 samples\n",
      "Epoch 1/3\n",
      "60000/60000 [==============================] - 4s 59us/sample - loss: 0.0595 - accuracy: 0.9816\n",
      "Epoch 2/3\n",
      "60000/60000 [==============================] - 3s 58us/sample - loss: 0.0444 - accuracy: 0.9863\n",
      "Epoch 3/3\n",
      "60000/60000 [==============================] - 3s 58us/sample - loss: 0.0356 - accuracy: 0.9889\n"
     ]
    },
    {
     "data": {
      "text/plain": [
       "<tensorflow.python.keras.callbacks.History at 0x2b05fd119e8>"
      ]
     },
     "execution_count": 6,
     "metadata": {},
     "output_type": "execute_result"
    }
   ],
   "source": [
    "model.fit(mnist_train_images, mnist_train_label, epochs=3)"
   ]
  },
  {
   "cell_type": "code",
   "execution_count": 8,
   "metadata": {},
   "outputs": [],
   "source": [
    "def plot_image(i, predictions_array, true_label, img):\n",
    "  predictions_array, true_label, img = predictions_array, true_label[i], img[i]\n",
    "  plt.grid(False)\n",
    "  plt.xticks([])\n",
    "  plt.yticks([])\n",
    "\n",
    "  plt.imshow(img, cmap=plt.cm.binary)\n",
    "\n",
    "  predicted_label = np.argmax(predictions_array)\n",
    "  if predicted_label == true_label:\n",
    "    color = 'blue'\n",
    "  else:\n",
    "    color = 'red'\n",
    "\n",
    "  plt.xlabel(\"{} {:2.0f}% ({})\".format(str(predicted_label),\n",
    "                                100*np.max(predictions_array),\n",
    "                                str(true_label)),\n",
    "                                color=color)\n",
    "\n",
    "def plot_value_array(i, predictions_array, true_label):\n",
    "  predictions_array, true_label = predictions_array, true_label[i]\n",
    "  plt.grid(False)\n",
    "  plt.xticks(range(10))\n",
    "  plt.yticks([])\n",
    "  thisplot = plt.bar(range(10), predictions_array, color=\"#777777\")\n",
    "  plt.ylim([0, 1])\n",
    "  predicted_label = np.argmax(predictions_array)\n",
    "\n",
    "  thisplot[predicted_label].set_color('red')\n",
    "  thisplot[true_label].set_color('blue')"
   ]
  },
  {
   "cell_type": "code",
   "execution_count": 9,
   "metadata": {},
   "outputs": [
    {
     "data": {
      "image/png": "[encoded data removed]",
      "text/plain": [
       "<Figure size 864x720 with 30 Axes>"
      ]
     },
     "metadata": {
      "needs_background": "light"
     },
     "output_type": "display_data"
    }
   ],
   "source": [
    "predictions = model.predict(mnist_test_images)\n",
    "num_rows = 5\n",
    "num_cols = 3\n",
    "num_images = num_rows*num_cols\n",
    "plt.figure(figsize=(2*2*num_cols, 2*num_rows))\n",
    "for i in range(num_images):\n",
    "  plt.subplot(num_rows, 2*num_cols, 2*i+1)\n",
    "  plot_image(i, predictions[i], mnist_test_label, mnist_test_images)\n",
    "  plt.subplot(num_rows, 2*num_cols, 2*i+2)\n",
    "  plot_value_array(i, predictions[i], mnist_test_label)\n",
    "plt.tight_layout()\n",
    "plt.show()"
   ]
  },
  {
   "cell_type": "code",
   "execution_count": null,
   "metadata": {},
   "outputs": [],
   "source": []
  }
 ],
 "metadata": {
  "kernelspec": {
   "display_name": "Python 3",
   "language": "python",
   "name": "python3"
  },
  "language_info": {
   "codemirror_mode": {
    "name": "ipython",
    "version": 3
   },
   "file_extension": ".py",
   "mimetype": "text/x-python",
   "name": "python",
   "nbconvert_exporter": "python",
   "pygments_lexer": "ipython3",
   "version": "3.6.9"
  }
 },
 "nbformat": 4,
 "nbformat_minor": 4
}
